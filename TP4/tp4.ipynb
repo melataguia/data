{
 "cells": [
  {
   "cell_type": "markdown",
   "metadata": {},
   "source": [
    "## Importation des bibliothèques nécessaires pour notre travail "
   ]
  },
  {
   "cell_type": "code",
   "execution_count": 26,
   "metadata": {},
   "outputs": [
    {
     "name": "stderr",
     "output_type": "stream",
     "text": [
      "Matplotlib is building the font cache; this may take a moment.\n"
     ]
    }
   ],
   "source": [
    "#Pour importer les données\n",
    "import pandas as pd\n",
    "# Pour la recherche des valeurs manquantes et pour les graphiques \n",
    "import matplotlib.pyplot as plt\n",
    "import seaborn as sns\n"
   ]
  },
  {
   "cell_type": "markdown",
   "metadata": {},
   "source": [
    "### Importer le fichier train "
   ]
  },
  {
   "cell_type": "code",
   "execution_count": 7,
   "metadata": {},
   "outputs": [],
   "source": [
    "df = pd.read_csv('../data/train.csv')"
   ]
  },
  {
   "cell_type": "markdown",
   "metadata": {},
   "source": [
    "## Impression des premieres lignes"
   ]
  },
  {
   "cell_type": "code",
   "execution_count": 9,
   "metadata": {},
   "outputs": [
    {
     "name": "stdout",
     "output_type": "stream",
     "text": [
      "   PassengerId  Survived  Pclass  \\\n",
      "0            1         0       3   \n",
      "1            2         1       1   \n",
      "2            3         1       3   \n",
      "3            4         1       1   \n",
      "4            5         0       3   \n",
      "\n",
      "                                                Name     Sex   Age  SibSp  \\\n",
      "0                            Braund, Mr. Owen Harris    male  22.0      1   \n",
      "1  Cumings, Mrs. John Bradley (Florence Briggs Th...  female  38.0      1   \n",
      "2                             Heikkinen, Miss. Laina  female  26.0      0   \n",
      "3       Futrelle, Mrs. Jacques Heath (Lily May Peel)  female  35.0      1   \n",
      "4                           Allen, Mr. William Henry    male  35.0      0   \n",
      "\n",
      "   Parch            Ticket     Fare Cabin Embarked  \n",
      "0      0         A/5 21171   7.2500   NaN        S  \n",
      "1      0          PC 17599  71.2833   C85        C  \n",
      "2      0  STON/O2. 3101282   7.9250   NaN        S  \n",
      "3      0            113803  53.1000  C123        S  \n",
      "4      0            373450   8.0500   NaN        S  \n"
     ]
    }
   ],
   "source": [
    "print(df.head())"
   ]
  },
  {
   "cell_type": "markdown",
   "metadata": {},
   "source": [
    "## Nombre de personnes de sexes feminins et masculins"
   ]
  },
  {
   "cell_type": "code",
   "execution_count": 10,
   "metadata": {},
   "outputs": [],
   "source": [
    "nf = df[df['Sex']== 'female'].shape[0]"
   ]
  },
  {
   "cell_type": "code",
   "execution_count": 11,
   "metadata": {},
   "outputs": [
    {
     "name": "stdout",
     "output_type": "stream",
     "text": [
      "Nombre de femmes de sexe feminin : 314\n"
     ]
    }
   ],
   "source": [
    "print(f'Nombre de femmes de sexe feminin : {nf}')"
   ]
  },
  {
   "cell_type": "code",
   "execution_count": 13,
   "metadata": {},
   "outputs": [],
   "source": [
    "nh = df[df['Sex']== 'male'].shape[0]"
   ]
  },
  {
   "cell_type": "code",
   "execution_count": 14,
   "metadata": {},
   "outputs": [
    {
     "name": "stdout",
     "output_type": "stream",
     "text": [
      "Nombre d'hommes  : 577\n"
     ]
    }
   ],
   "source": [
    "print(f'Nombre d\\'hommes  : {nh}')"
   ]
  },
  {
   "cell_type": "markdown",
   "metadata": {},
   "source": [
    "## Nombre de personnes donc l'âge inferieur à 20 Ans "
   ]
  },
  {
   "cell_type": "code",
   "execution_count": 15,
   "metadata": {},
   "outputs": [],
   "source": [
    "age_inferieur = df[df['Age']<20].shape[0]"
   ]
  },
  {
   "cell_type": "code",
   "execution_count": 16,
   "metadata": {},
   "outputs": [
    {
     "name": "stdout",
     "output_type": "stream",
     "text": [
      "Nombre de personnes donc l'age est inferieur a 20 ans : 164\n"
     ]
    }
   ],
   "source": [
    "print(f\"Nombre de personnes donc l'age est inferieur a 20 ans : {age_inferieur}\")"
   ]
  },
  {
   "cell_type": "markdown",
   "metadata": {},
   "source": [
    "## La moyenne des ages "
   ]
  },
  {
   "cell_type": "code",
   "execution_count": 22,
   "metadata": {},
   "outputs": [],
   "source": [
    "moyenne_age = df['Age'].mean()"
   ]
  },
  {
   "cell_type": "code",
   "execution_count": 23,
   "metadata": {},
   "outputs": [
    {
     "name": "stdout",
     "output_type": "stream",
     "text": [
      "La moyenne des ages est : 29.69911764705882\n"
     ]
    }
   ],
   "source": [
    "print(f\"La moyenne des ages est : {moyenne_age}\")"
   ]
  },
  {
   "cell_type": "markdown",
   "metadata": {},
   "source": [
    "# Nettoyages des données"
   ]
  },
  {
   "cell_type": "markdown",
   "metadata": {},
   "source": [
    "## Recherches des valeurs manquantes dans le dataset "
   ]
  },
  {
   "cell_type": "code",
   "execution_count": 24,
   "metadata": {},
   "outputs": [
    {
     "name": "stdout",
     "output_type": "stream",
     "text": [
      "PassengerId      0\n",
      "Survived         0\n",
      "Pclass           0\n",
      "Name             0\n",
      "Sex              0\n",
      "Age            177\n",
      "SibSp            0\n",
      "Parch            0\n",
      "Ticket           0\n",
      "Fare             0\n",
      "Cabin          687\n",
      "Embarked         2\n",
      "dtype: int64\n",
      "     PassengerId  Survived  Pclass                                      Name  \\\n",
      "0              1         0       3                   Braund, Mr. Owen Harris   \n",
      "2              3         1       3                    Heikkinen, Miss. Laina   \n",
      "4              5         0       3                  Allen, Mr. William Henry   \n",
      "5              6         0       3                          Moran, Mr. James   \n",
      "7              8         0       3            Palsson, Master. Gosta Leonard   \n",
      "..           ...       ...     ...                                       ...   \n",
      "884          885         0       3                    Sutehall, Mr. Henry Jr   \n",
      "885          886         0       3      Rice, Mrs. William (Margaret Norton)   \n",
      "886          887         0       2                     Montvila, Rev. Juozas   \n",
      "888          889         0       3  Johnston, Miss. Catherine Helen \"Carrie\"   \n",
      "890          891         0       3                       Dooley, Mr. Patrick   \n",
      "\n",
      "        Sex   Age  SibSp  Parch            Ticket     Fare Cabin Embarked  \n",
      "0      male  22.0      1      0         A/5 21171   7.2500   NaN        S  \n",
      "2    female  26.0      0      0  STON/O2. 3101282   7.9250   NaN        S  \n",
      "4      male  35.0      0      0            373450   8.0500   NaN        S  \n",
      "5      male   NaN      0      0            330877   8.4583   NaN        Q  \n",
      "7      male   2.0      3      1            349909  21.0750   NaN        S  \n",
      "..      ...   ...    ...    ...               ...      ...   ...      ...  \n",
      "884    male  25.0      0      0   SOTON/OQ 392076   7.0500   NaN        S  \n",
      "885  female  39.0      0      5            382652  29.1250   NaN        Q  \n",
      "886    male  27.0      0      0            211536  13.0000   NaN        S  \n",
      "888  female   NaN      1      2        W./C. 6607  23.4500   NaN        S  \n",
      "890    male  32.0      0      0            370376   7.7500   NaN        Q  \n",
      "\n",
      "[708 rows x 12 columns]\n"
     ]
    }
   ],
   "source": [
    "# Vérifier les valeurs manquantes\n",
    "print(df.isnull().sum())\n",
    "\n",
    "# Afficher les lignes avec des valeurs manquantes\n",
    "missing_data = df[df.isnull().any(axis=1)]\n",
    "print(missing_data)\n"
   ]
  },
  {
   "cell_type": "markdown",
   "metadata": {},
   "source": [
    "## Rechercher les valeurs abberantes "
   ]
  },
  {
   "cell_type": "code",
   "execution_count": 27,
   "metadata": {},
   "outputs": [
    {
     "data": {
      "image/png": "[encoded data removed]",
      "text/plain": [
       "<Figure size 640x480 with 1 Axes>"
      ]
     },
     "metadata": {},
     "output_type": "display_data"
    },
    {
     "name": "stdout",
     "output_type": "stream",
     "text": [
      "     PassengerId  Survived  Pclass                                  Name  \\\n",
      "33            34         0       2                 Wheadon, Mr. Edward H   \n",
      "54            55         0       1        Ostby, Mr. Engelhart Cornelius   \n",
      "96            97         0       1             Goldschmidt, Mr. George B   \n",
      "116          117         0       3                  Connors, Mr. Patrick   \n",
      "280          281         0       3                      Duane, Mr. Frank   \n",
      "456          457         0       1             Millet, Mr. Francis Davis   \n",
      "493          494         0       1               Artagaveytia, Mr. Ramon   \n",
      "630          631         1       1  Barkworth, Mr. Algernon Henry Wilson   \n",
      "672          673         0       2           Mitchell, Mr. Henry Michael   \n",
      "745          746         0       1          Crosby, Capt. Edward Gifford   \n",
      "851          852         0       3                   Svensson, Mr. Johan   \n",
      "\n",
      "      Sex   Age  SibSp  Parch      Ticket     Fare Cabin Embarked  \n",
      "33   male  66.0      0      0  C.A. 24579  10.5000   NaN        S  \n",
      "54   male  65.0      0      1      113509  61.9792   B30        C  \n",
      "96   male  71.0      0      0    PC 17754  34.6542    A5        C  \n",
      "116  male  70.5      0      0      370369   7.7500   NaN        Q  \n",
      "280  male  65.0      0      0      336439   7.7500   NaN        Q  \n",
      "456  male  65.0      0      0       13509  26.5500   E38        S  \n",
      "493  male  71.0      0      0    PC 17609  49.5042   NaN        C  \n",
      "630  male  80.0      0      0       27042  30.0000   A23        S  \n",
      "672  male  70.0      0      0  C.A. 24580  10.5000   NaN        S  \n",
      "745  male  70.0      1      1   WE/P 5735  71.0000   B22        S  \n",
      "851  male  74.0      0      0      347060   7.7750   NaN        S  \n"
     ]
    }
   ],
   "source": [
    "\n",
    "\n",
    "# Visualiser les outliers avec un boxplot\n",
    "sns.boxplot(x=df['Age'])\n",
    "plt.show()\n",
    "\n",
    "# Calculer les limites des outliers pour la colonne 'Age'\n",
    "Q1 = df['Age'].quantile(0.25)\n",
    "Q3 = df['Age'].quantile(0.75)\n",
    "IQR = Q3 - Q1  # Intervalle interquartile\n",
    "lower_bound = Q1 - 1.5 * IQR\n",
    "upper_bound = Q3 + 1.5 * IQR\n",
    "\n",
    "# Afficher les lignes avec des outliers\n",
    "outliers = df[(df['Age'] < lower_bound) | (df['Age'] > upper_bound)]\n",
    "print(outliers)\n"
   ]
  },
  {
   "cell_type": "code",
   "execution_count": 28,
   "metadata": {},
   "outputs": [
    {
     "name": "stdout",
     "output_type": "stream",
     "text": [
      "Empty DataFrame\n",
      "Columns: [PassengerId, Survived, Pclass, Name, Sex, Age, SibSp, Parch, Ticket, Fare, Cabin, Embarked]\n",
      "Index: []\n",
      "Empty DataFrame\n",
      "Columns: [PassengerId, Survived, Pclass, Name, Sex, Age, SibSp, Parch, Ticket, Fare, Cabin, Embarked]\n",
      "Index: []\n"
     ]
    }
   ],
   "source": [
    "# Vérifier les âges négatifs ou irréalistes\n",
    "inconsistent_age = df[df['Age'] < 0]\n",
    "print(inconsistent_age)\n",
    "\n",
    "# Vérifier les incohérences dans la colonne 'Sex'\n",
    "inconsistent_sex = df[~df['Sex'].isin(['male', 'female'])]\n",
    "print(inconsistent_sex)\n"
   ]
  },
  {
   "cell_type": "code",
   "execution_count": 29,
   "metadata": {},
   "outputs": [
    {
     "name": "stdout",
     "output_type": "stream",
     "text": [
      "       PassengerId    Survived      Pclass         Age       SibSp  \\\n",
      "count   891.000000  891.000000  891.000000  714.000000  891.000000   \n",
      "mean    446.000000    0.383838    2.308642   29.699118    0.523008   \n",
      "std     257.353842    0.486592    0.836071   14.526497    1.102743   \n",
      "min       1.000000    0.000000    1.000000    0.420000    0.000000   \n",
      "25%     223.500000    0.000000    2.000000   20.125000    0.000000   \n",
      "50%     446.000000    0.000000    3.000000   28.000000    0.000000   \n",
      "75%     668.500000    1.000000    3.000000   38.000000    1.000000   \n",
      "max     891.000000    1.000000    3.000000   80.000000    8.000000   \n",
      "\n",
      "            Parch        Fare  \n",
      "count  891.000000  891.000000  \n",
      "mean     0.381594   32.204208  \n",
      "std      0.806057   49.693429  \n",
      "min      0.000000    0.000000  \n",
      "25%      0.000000    7.910400  \n",
      "50%      0.000000   14.454200  \n",
      "75%      0.000000   31.000000  \n",
      "max      6.000000  512.329200  \n"
     ]
    }
   ],
   "source": [
    "# Résumé statistique\n",
    "print(df.describe())\n"
   ]
  },
  {
   "cell_type": "markdown",
   "metadata": {},
   "source": [
    "## Distribution de l'age "
   ]
  },
  {
   "cell_type": "code",
   "execution_count": 30,
   "metadata": {},
   "outputs": [
    {
     "data": {
      "image/png": "[encoded data removed]",
      "text/plain": [
       "<Figure size 640x480 with 1 Axes>"
      ]
     },
     "metadata": {},
     "output_type": "display_data"
    }
   ],
   "source": [
    "sns.histplot(df['Age'], kde=True)\n",
    "plt.show()\n"
   ]
  },
  {
   "cell_type": "markdown",
   "metadata": {},
   "source": [
    "## Relation entre Age et Fare"
   ]
  },
  {
   "cell_type": "code",
   "execution_count": 31,
   "metadata": {},
   "outputs": [
    {
     "data": {
      "image/png": "[encoded data removed]",
      "text/plain": [
       "<Figure size 640x480 with 1 Axes>"
      ]
     },
     "metadata": {},
     "output_type": "display_data"
    }
   ],
   "source": [
    "sns.scatterplot(x='Age', y='Fare', data=df)\n",
    "plt.show()\n"
   ]
  }
 ],
 "metadata": {
  "kernelspec": {
   "display_name": "tac_venv",
   "language": "python",
   "name": "python3"
  },
  "language_info": {
   "codemirror_mode": {
    "name": "ipython",
    "version": 3
   },
   "file_extension": ".py",
   "mimetype": "text/x-python",
   "name": "python",
   "nbconvert_exporter": "python",
   "pygments_lexer": "ipython3",
   "version": "3.10.15"
  }
 },
 "nbformat": 4,
 "nbformat_minor": 2
}
